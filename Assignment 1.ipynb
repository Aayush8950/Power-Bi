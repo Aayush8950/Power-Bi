{
 "cells": [
  {
   "cell_type": "markdown",
   "id": "4f6d0077",
   "metadata": {},
   "source": [
    "# Q1) what is BI?"
   ]
  },
  {
   "cell_type": "code",
   "execution_count": null,
   "id": "27fdea91",
   "metadata": {},
   "outputs": [],
   "source": [
    "Business intelligence  combines business analytics, data mining, data visualization, data tools and infrastructure,\n",
    "and it help organizations to make more datadriven decisionss\n",
    "BI allows companies to access to information that is critical to the success of\n",
    "multiple areas including sales, finance,\n",
    "marketing, and a multitude of other areas and departments"
   ]
  },
  {
   "cell_type": "markdown",
   "id": "69760374",
   "metadata": {},
   "source": [
    "# Q2) What are three basic Elements of Power BI?"
   ]
  },
  {
   "cell_type": "code",
   "execution_count": null,
   "id": "e5701eeb",
   "metadata": {},
   "outputs": [],
   "source": [
    "1 power bi desktop\n",
    "2 power bi mobile\n",
    "3 power bi service\n"
   ]
  },
  {
   "cell_type": "markdown",
   "id": "d7a719b4",
   "metadata": {},
   "source": [
    "# Q3) What is power BI?"
   ]
  },
  {
   "cell_type": "code",
   "execution_count": null,
   "id": "be672a88",
   "metadata": {},
   "outputs": [],
   "source": [
    "basically power bi is a businees inteligence tool which is used to draw meaninful information with the\n",
    "help of their dasboarding tools and we can easily modiy data in power query editor of power bi as well"
   ]
  },
  {
   "cell_type": "markdown",
   "id": "2934c2b4",
   "metadata": {},
   "source": [
    "# Q4) Explain, how can we import data in power BI?"
   ]
  },
  {
   "cell_type": "code",
   "execution_count": null,
   "id": "7425f6a2",
   "metadata": {},
   "outputs": [],
   "source": [
    "as soons as we open power bi there is a home tab present from there we have a icon of load datas\n",
    "from there we click and we can load data in any format we want there is so much option present"
   ]
  },
  {
   "cell_type": "markdown",
   "id": "ec144d47",
   "metadata": {},
   "source": [
    "# Q5) Name some BI tools other than Power BI?"
   ]
  },
  {
   "cell_type": "code",
   "execution_count": null,
   "id": "101e274c",
   "metadata": {},
   "outputs": [],
   "source": [
    "tableau , clickview"
   ]
  }
 ],
 "metadata": {
  "kernelspec": {
   "display_name": "Python 3 (ipykernel)",
   "language": "python",
   "name": "python3"
  },
  "language_info": {
   "codemirror_mode": {
    "name": "ipython",
    "version": 3
   },
   "file_extension": ".py",
   "mimetype": "text/x-python",
   "name": "python",
   "nbconvert_exporter": "python",
   "pygments_lexer": "ipython3",
   "version": "3.9.7"
  }
 },
 "nbformat": 4,
 "nbformat_minor": 5
}

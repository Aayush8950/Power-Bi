{
 "cells": [
  {
   "cell_type": "markdown",
   "id": "00f38951",
   "metadata": {},
   "source": [
    "# Q1) What is power Query Editor?"
   ]
  },
  {
   "cell_type": "code",
   "execution_count": null,
   "id": "1e6bc334",
   "metadata": {},
   "outputs": [],
   "source": [
    "The Power Query Editor is the primary data preparation experience, where you can connect to a wide range \n",
    "of data sources and apply hundreds of different data transformations by previewing data and selecting\n",
    "transformations from the UI"
   ]
  },
  {
   "cell_type": "markdown",
   "id": "83fb0280",
   "metadata": {},
   "source": [
    "# Q2) When was Power BI launched?"
   ]
  },
  {
   "cell_type": "code",
   "execution_count": null,
   "id": "752f887b",
   "metadata": {},
   "outputs": [],
   "source": [
    "2014"
   ]
  },
  {
   "cell_type": "markdown",
   "id": "36ae954f",
   "metadata": {},
   "source": [
    "# Q3) What is the difference between a data & a business analyst?"
   ]
  },
  {
   "cell_type": "code",
   "execution_count": null,
   "id": "125ac7d4",
   "metadata": {},
   "outputs": [],
   "source": [
    "Data analytics involves analyzing datasets to uncover trends and insights that are subsequently\n",
    "used to make informed organizational decisions. Business analytics is focused on analyzing various types of \n",
    "information to make practical, data-driven business decisions, and implementing changes based on those decisions."
   ]
  },
  {
   "cell_type": "markdown",
   "id": "cdbe3203",
   "metadata": {},
   "source": [
    "# Q4) What is Data Mining?"
   ]
  },
  {
   "cell_type": "code",
   "execution_count": null,
   "id": "d30d66dc",
   "metadata": {},
   "outputs": [],
   "source": [
    "Data mining is a process used by companies to turn raw data into useful information.\n",
    "By using software to look for patterns in large batches of data, businesses can learn more about \n",
    "their customers to develop more effective marketing strategies, increase sales and decrease costs."
   ]
  },
  {
   "cell_type": "markdown",
   "id": "3e790ffe",
   "metadata": {},
   "source": [
    "# Q5) What is data profiling? "
   ]
  },
  {
   "cell_type": "code",
   "execution_count": null,
   "id": "206788d7",
   "metadata": {},
   "outputs": [],
   "source": [
    "Data profiling is the process of examining, analyzing, and creating useful summaries of data. \n",
    "The process yields a high-level overview which aids in the discovery of data quality issues, risks,\n",
    "and overall trends. Data profiling produces critical insights into data that companies can then leverage \n",
    "to their advantage."
   ]
  },
  {
   "cell_type": "code",
   "execution_count": null,
   "id": "c49c841c",
   "metadata": {},
   "outputs": [],
   "source": []
  }
 ],
 "metadata": {
  "kernelspec": {
   "display_name": "Python 3 (ipykernel)",
   "language": "python",
   "name": "python3"
  },
  "language_info": {
   "codemirror_mode": {
    "name": "ipython",
    "version": 3
   },
   "file_extension": ".py",
   "mimetype": "text/x-python",
   "name": "python",
   "nbconvert_exporter": "python",
   "pygments_lexer": "ipython3",
   "version": "3.9.7"
  }
 },
 "nbformat": 4,
 "nbformat_minor": 5
}
